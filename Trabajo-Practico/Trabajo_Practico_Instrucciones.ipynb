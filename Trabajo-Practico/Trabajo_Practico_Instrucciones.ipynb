{
 "cells": [
  {
   "cell_type": "markdown",
   "id": "b340ab2c",
   "metadata": {},
   "source": [
    "Trabajo practico"
   ]
  },
  {
   "cell_type": "code",
   "execution_count": 2,
   "id": "49d7071d",
   "metadata": {},
   "outputs": [
    {
     "data": {
      "text/html": [
       "<div>\n",
       "<style scoped>\n",
       "    .dataframe tbody tr th:only-of-type {\n",
       "        vertical-align: middle;\n",
       "    }\n",
       "\n",
       "    .dataframe tbody tr th {\n",
       "        vertical-align: top;\n",
       "    }\n",
       "\n",
       "    .dataframe thead th {\n",
       "        text-align: right;\n",
       "    }\n",
       "</style>\n",
       "<table border=\"1\" class=\"dataframe\">\n",
       "  <thead>\n",
       "    <tr style=\"text-align: right;\">\n",
       "      <th></th>\n",
       "      <th>ID</th>\n",
       "      <th>GENERO</th>\n",
       "      <th>EDAD</th>\n",
       "      <th>RANGO EDAD</th>\n",
       "      <th>AÑO INGRESO</th>\n",
       "      <th>SEMESTRE INGRESO</th>\n",
       "      <th>TIPO DE INSTITUCION</th>\n",
       "      <th>NOMBRE DE INSTITUCION</th>\n",
       "      <th>ACREDITACION INSTITUCIONAL</th>\n",
       "      <th>PERIODO DE ACREDITACION</th>\n",
       "      <th>...</th>\n",
       "      <th>NIVEL CARRERA</th>\n",
       "      <th>AREA CONOCIMIENTO</th>\n",
       "      <th>DURACION PLAN DE ESTUDIO (SEMESTRES)</th>\n",
       "      <th>DURACION PROCESO TITULACION (SEMESTRES)</th>\n",
       "      <th>DURACION TOTAL CARRERA (SEMESTRES)</th>\n",
       "      <th>VALOR MATRICULA (PESOS)</th>\n",
       "      <th>VALOR ARANCEL (PESOS)</th>\n",
       "      <th>REGION SEDE</th>\n",
       "      <th>PROVINCIA SEDE</th>\n",
       "      <th>COMUNA SEDE</th>\n",
       "    </tr>\n",
       "  </thead>\n",
       "  <tbody>\n",
       "    <tr>\n",
       "      <th>0</th>\n",
       "      <td>45</td>\n",
       "      <td>Femenino</td>\n",
       "      <td>22</td>\n",
       "      <td>20 a 24</td>\n",
       "      <td>2018</td>\n",
       "      <td>Primer semestre</td>\n",
       "      <td>Universidades Privadas</td>\n",
       "      <td>UNIVERSIDAD SANTO TOMAS</td>\n",
       "      <td>ACREDITADA</td>\n",
       "      <td>31/03/2021 AL 31/03/2025</td>\n",
       "      <td>...</td>\n",
       "      <td>Carreras Profesionales</td>\n",
       "      <td>Ciencias Sociales</td>\n",
       "      <td>10</td>\n",
       "      <td>0</td>\n",
       "      <td>10</td>\n",
       "      <td>134000</td>\n",
       "      <td>3154000</td>\n",
       "      <td>Los Lagos</td>\n",
       "      <td>Osorno</td>\n",
       "      <td>Osorno</td>\n",
       "    </tr>\n",
       "    <tr>\n",
       "      <th>1</th>\n",
       "      <td>49</td>\n",
       "      <td>Femenino</td>\n",
       "      <td>54</td>\n",
       "      <td>40 y mas</td>\n",
       "      <td>2019</td>\n",
       "      <td>Primer semestre</td>\n",
       "      <td>Universidades CRUCH</td>\n",
       "      <td>UNIVERSIDAD DE LOS LAGOS</td>\n",
       "      <td>ACREDITADA</td>\n",
       "      <td>12/12/2016 AL 12/12/2020</td>\n",
       "      <td>...</td>\n",
       "      <td>Carreras Tecnicas</td>\n",
       "      <td>Educacion</td>\n",
       "      <td>5</td>\n",
       "      <td>0</td>\n",
       "      <td>5</td>\n",
       "      <td>102000</td>\n",
       "      <td>1721000</td>\n",
       "      <td>Los Lagos</td>\n",
       "      <td>Chiloe</td>\n",
       "      <td>Castro</td>\n",
       "    </tr>\n",
       "    <tr>\n",
       "      <th>2</th>\n",
       "      <td>51</td>\n",
       "      <td>Femenino</td>\n",
       "      <td>25</td>\n",
       "      <td>25 a 29</td>\n",
       "      <td>2020</td>\n",
       "      <td>Primer semestre</td>\n",
       "      <td>Centros de Formacion Tecnica</td>\n",
       "      <td>CFT INACAP</td>\n",
       "      <td>ACREDITADA</td>\n",
       "      <td>05/01/2018 AL 05/01/2025</td>\n",
       "      <td>...</td>\n",
       "      <td>Carreras Tecnicas</td>\n",
       "      <td>Administracion y Comercio</td>\n",
       "      <td>4</td>\n",
       "      <td>0</td>\n",
       "      <td>4</td>\n",
       "      <td>220000</td>\n",
       "      <td>1864000</td>\n",
       "      <td>Los Lagos</td>\n",
       "      <td>Llanquihue</td>\n",
       "      <td>Puerto Montt</td>\n",
       "    </tr>\n",
       "    <tr>\n",
       "      <th>3</th>\n",
       "      <td>75</td>\n",
       "      <td>Masculino</td>\n",
       "      <td>23</td>\n",
       "      <td>20 a 24</td>\n",
       "      <td>2019</td>\n",
       "      <td>Primer semestre</td>\n",
       "      <td>Universidades CRUCH</td>\n",
       "      <td>UNIVERSIDAD DE LOS LAGOS</td>\n",
       "      <td>ACREDITADA</td>\n",
       "      <td>12/12/2016 AL 12/12/2020</td>\n",
       "      <td>...</td>\n",
       "      <td>Carreras Tecnicas</td>\n",
       "      <td>Educacion</td>\n",
       "      <td>5</td>\n",
       "      <td>0</td>\n",
       "      <td>5</td>\n",
       "      <td>102000</td>\n",
       "      <td>1721000</td>\n",
       "      <td>Los Lagos</td>\n",
       "      <td>Llanquihue</td>\n",
       "      <td>Puerto Montt</td>\n",
       "    </tr>\n",
       "    <tr>\n",
       "      <th>4</th>\n",
       "      <td>121</td>\n",
       "      <td>Femenino</td>\n",
       "      <td>19</td>\n",
       "      <td>15 a 19</td>\n",
       "      <td>2020</td>\n",
       "      <td>Primer semestre</td>\n",
       "      <td>Universidades Privadas</td>\n",
       "      <td>UNIVERSIDAD SAN SEBASTIAN</td>\n",
       "      <td>ACREDITADA</td>\n",
       "      <td>13/09/2016 AL 13/09/2021</td>\n",
       "      <td>...</td>\n",
       "      <td>Carreras Profesionales</td>\n",
       "      <td>Administracion y Comercio</td>\n",
       "      <td>10</td>\n",
       "      <td>1</td>\n",
       "      <td>10</td>\n",
       "      <td>185300</td>\n",
       "      <td>4182600</td>\n",
       "      <td>Los Lagos</td>\n",
       "      <td>Llanquihue</td>\n",
       "      <td>Puerto Montt</td>\n",
       "    </tr>\n",
       "    <tr>\n",
       "      <th>...</th>\n",
       "      <td>...</td>\n",
       "      <td>...</td>\n",
       "      <td>...</td>\n",
       "      <td>...</td>\n",
       "      <td>...</td>\n",
       "      <td>...</td>\n",
       "      <td>...</td>\n",
       "      <td>...</td>\n",
       "      <td>...</td>\n",
       "      <td>...</td>\n",
       "      <td>...</td>\n",
       "      <td>...</td>\n",
       "      <td>...</td>\n",
       "      <td>...</td>\n",
       "      <td>...</td>\n",
       "      <td>...</td>\n",
       "      <td>...</td>\n",
       "      <td>...</td>\n",
       "      <td>...</td>\n",
       "      <td>...</td>\n",
       "      <td>...</td>\n",
       "    </tr>\n",
       "    <tr>\n",
       "      <th>34367</th>\n",
       "      <td>1048439</td>\n",
       "      <td>Femenino</td>\n",
       "      <td>46</td>\n",
       "      <td>40 y mas</td>\n",
       "      <td>2020</td>\n",
       "      <td>Primer semestre</td>\n",
       "      <td>Universidades CRUCH</td>\n",
       "      <td>UNIVERSIDAD DE LOS LAGOS</td>\n",
       "      <td>ACREDITADA</td>\n",
       "      <td>12/12/2016 AL 12/12/2020</td>\n",
       "      <td>...</td>\n",
       "      <td>Carreras Tecnicas</td>\n",
       "      <td>Educacion</td>\n",
       "      <td>5</td>\n",
       "      <td>0</td>\n",
       "      <td>5</td>\n",
       "      <td>102000</td>\n",
       "      <td>1721000</td>\n",
       "      <td>Los Lagos</td>\n",
       "      <td>Llanquihue</td>\n",
       "      <td>Puerto Montt</td>\n",
       "    </tr>\n",
       "    <tr>\n",
       "      <th>34368</th>\n",
       "      <td>1048443</td>\n",
       "      <td>Masculino</td>\n",
       "      <td>29</td>\n",
       "      <td>25 a 29</td>\n",
       "      <td>2021</td>\n",
       "      <td>Primer semestre</td>\n",
       "      <td>Centros de Formacion Tecnica</td>\n",
       "      <td>CFT INACAP</td>\n",
       "      <td>ACREDITADA</td>\n",
       "      <td>05/01/2018 AL 05/01/2025</td>\n",
       "      <td>...</td>\n",
       "      <td>Carreras Tecnicas</td>\n",
       "      <td>Administracion y Comercio</td>\n",
       "      <td>4</td>\n",
       "      <td>0</td>\n",
       "      <td>4</td>\n",
       "      <td>220000</td>\n",
       "      <td>1864000</td>\n",
       "      <td>Los Lagos</td>\n",
       "      <td>Osorno</td>\n",
       "      <td>Osorno</td>\n",
       "    </tr>\n",
       "    <tr>\n",
       "      <th>34369</th>\n",
       "      <td>1048456</td>\n",
       "      <td>Masculino</td>\n",
       "      <td>29</td>\n",
       "      <td>25 a 29</td>\n",
       "      <td>2020</td>\n",
       "      <td>Primer semestre</td>\n",
       "      <td>Institutos Profesionales</td>\n",
       "      <td>IP DUOC UC</td>\n",
       "      <td>ACREDITADA</td>\n",
       "      <td>26/08/2017 AL 26/08/2024</td>\n",
       "      <td>...</td>\n",
       "      <td>Carreras Tecnicas</td>\n",
       "      <td>Tecnologia</td>\n",
       "      <td>5</td>\n",
       "      <td>1</td>\n",
       "      <td>5</td>\n",
       "      <td>176000</td>\n",
       "      <td>2160000</td>\n",
       "      <td>Los Lagos</td>\n",
       "      <td>Llanquihue</td>\n",
       "      <td>Puerto Montt</td>\n",
       "    </tr>\n",
       "    <tr>\n",
       "      <th>34370</th>\n",
       "      <td>1048465</td>\n",
       "      <td>Masculino</td>\n",
       "      <td>26</td>\n",
       "      <td>25 a 29</td>\n",
       "      <td>2019</td>\n",
       "      <td>Primer semestre</td>\n",
       "      <td>Universidades CRUCH</td>\n",
       "      <td>UNIVERSIDAD DE LOS LAGOS</td>\n",
       "      <td>ACREDITADA</td>\n",
       "      <td>12/12/2016 AL 12/12/2020</td>\n",
       "      <td>...</td>\n",
       "      <td>Carreras Tecnicas</td>\n",
       "      <td>Educacion</td>\n",
       "      <td>5</td>\n",
       "      <td>0</td>\n",
       "      <td>5</td>\n",
       "      <td>102000</td>\n",
       "      <td>1721000</td>\n",
       "      <td>Los Lagos</td>\n",
       "      <td>Chiloe</td>\n",
       "      <td>Castro</td>\n",
       "    </tr>\n",
       "    <tr>\n",
       "      <th>34371</th>\n",
       "      <td>1048473</td>\n",
       "      <td>Masculino</td>\n",
       "      <td>19</td>\n",
       "      <td>15 a 19</td>\n",
       "      <td>2020</td>\n",
       "      <td>Primer semestre</td>\n",
       "      <td>Universidades CRUCH</td>\n",
       "      <td>UNIVERSIDAD DE LOS LAGOS</td>\n",
       "      <td>ACREDITADA</td>\n",
       "      <td>12/12/2016 AL 12/12/2020</td>\n",
       "      <td>...</td>\n",
       "      <td>Carreras Tecnicas</td>\n",
       "      <td>Tecnologia</td>\n",
       "      <td>5</td>\n",
       "      <td>0</td>\n",
       "      <td>5</td>\n",
       "      <td>102000</td>\n",
       "      <td>1766000</td>\n",
       "      <td>Los Lagos</td>\n",
       "      <td>Llanquihue</td>\n",
       "      <td>Puerto Montt</td>\n",
       "    </tr>\n",
       "  </tbody>\n",
       "</table>\n",
       "<p>34372 rows × 28 columns</p>\n",
       "</div>"
      ],
      "text/plain": [
       "            ID     GENERO  EDAD RANGO EDAD  AÑO INGRESO SEMESTRE INGRESO  \\\n",
       "0           45   Femenino    22   20 a 24          2018  Primer semestre   \n",
       "1           49   Femenino    54   40 y mas         2019  Primer semestre   \n",
       "2           51   Femenino    25   25 a 29          2020  Primer semestre   \n",
       "3           75  Masculino    23   20 a 24          2019  Primer semestre   \n",
       "4          121   Femenino    19   15 a 19          2020  Primer semestre   \n",
       "...        ...        ...   ...        ...          ...              ...   \n",
       "34367  1048439   Femenino    46   40 y mas         2020  Primer semestre   \n",
       "34368  1048443  Masculino    29   25 a 29          2021  Primer semestre   \n",
       "34369  1048456  Masculino    29   25 a 29          2020  Primer semestre   \n",
       "34370  1048465  Masculino    26   25 a 29          2019  Primer semestre   \n",
       "34371  1048473  Masculino    19   15 a 19          2020  Primer semestre   \n",
       "\n",
       "                TIPO DE INSTITUCION      NOMBRE DE INSTITUCION  \\\n",
       "0            Universidades Privadas    UNIVERSIDAD SANTO TOMAS   \n",
       "1               Universidades CRUCH   UNIVERSIDAD DE LOS LAGOS   \n",
       "2      Centros de Formacion Tecnica                 CFT INACAP   \n",
       "3               Universidades CRUCH   UNIVERSIDAD DE LOS LAGOS   \n",
       "4            Universidades Privadas  UNIVERSIDAD SAN SEBASTIAN   \n",
       "...                             ...                        ...   \n",
       "34367           Universidades CRUCH   UNIVERSIDAD DE LOS LAGOS   \n",
       "34368  Centros de Formacion Tecnica                 CFT INACAP   \n",
       "34369      Institutos Profesionales                 IP DUOC UC   \n",
       "34370           Universidades CRUCH   UNIVERSIDAD DE LOS LAGOS   \n",
       "34371           Universidades CRUCH   UNIVERSIDAD DE LOS LAGOS   \n",
       "\n",
       "      ACREDITACION INSTITUCIONAL   PERIODO DE ACREDITACION  ...  \\\n",
       "0                     ACREDITADA  31/03/2021 AL 31/03/2025  ...   \n",
       "1                     ACREDITADA  12/12/2016 AL 12/12/2020  ...   \n",
       "2                     ACREDITADA  05/01/2018 AL 05/01/2025  ...   \n",
       "3                     ACREDITADA  12/12/2016 AL 12/12/2020  ...   \n",
       "4                     ACREDITADA  13/09/2016 AL 13/09/2021  ...   \n",
       "...                          ...                       ...  ...   \n",
       "34367                 ACREDITADA  12/12/2016 AL 12/12/2020  ...   \n",
       "34368                 ACREDITADA  05/01/2018 AL 05/01/2025  ...   \n",
       "34369                 ACREDITADA  26/08/2017 AL 26/08/2024  ...   \n",
       "34370                 ACREDITADA  12/12/2016 AL 12/12/2020  ...   \n",
       "34371                 ACREDITADA  12/12/2016 AL 12/12/2020  ...   \n",
       "\n",
       "                NIVEL CARRERA          AREA CONOCIMIENTO  \\\n",
       "0      Carreras Profesionales          Ciencias Sociales   \n",
       "1           Carreras Tecnicas                  Educacion   \n",
       "2           Carreras Tecnicas  Administracion y Comercio   \n",
       "3           Carreras Tecnicas                  Educacion   \n",
       "4      Carreras Profesionales  Administracion y Comercio   \n",
       "...                       ...                        ...   \n",
       "34367       Carreras Tecnicas                  Educacion   \n",
       "34368       Carreras Tecnicas  Administracion y Comercio   \n",
       "34369       Carreras Tecnicas                 Tecnologia   \n",
       "34370       Carreras Tecnicas                  Educacion   \n",
       "34371       Carreras Tecnicas                 Tecnologia   \n",
       "\n",
       "      DURACION PLAN DE ESTUDIO (SEMESTRES)  \\\n",
       "0                                       10   \n",
       "1                                        5   \n",
       "2                                        4   \n",
       "3                                        5   \n",
       "4                                       10   \n",
       "...                                    ...   \n",
       "34367                                    5   \n",
       "34368                                    4   \n",
       "34369                                    5   \n",
       "34370                                    5   \n",
       "34371                                    5   \n",
       "\n",
       "      DURACION PROCESO TITULACION (SEMESTRES)  \\\n",
       "0                                           0   \n",
       "1                                           0   \n",
       "2                                           0   \n",
       "3                                           0   \n",
       "4                                           1   \n",
       "...                                       ...   \n",
       "34367                                       0   \n",
       "34368                                       0   \n",
       "34369                                       1   \n",
       "34370                                       0   \n",
       "34371                                       0   \n",
       "\n",
       "      DURACION TOTAL CARRERA (SEMESTRES) VALOR MATRICULA (PESOS)  \\\n",
       "0                                     10                  134000   \n",
       "1                                      5                  102000   \n",
       "2                                      4                  220000   \n",
       "3                                      5                  102000   \n",
       "4                                     10                  185300   \n",
       "...                                  ...                     ...   \n",
       "34367                                  5                  102000   \n",
       "34368                                  4                  220000   \n",
       "34369                                  5                  176000   \n",
       "34370                                  5                  102000   \n",
       "34371                                  5                  102000   \n",
       "\n",
       "      VALOR ARANCEL (PESOS) REGION SEDE PROVINCIA SEDE   COMUNA SEDE  \n",
       "0                   3154000   Los Lagos         Osorno        Osorno  \n",
       "1                   1721000   Los Lagos         Chiloe        Castro  \n",
       "2                   1864000   Los Lagos     Llanquihue  Puerto Montt  \n",
       "3                   1721000   Los Lagos     Llanquihue  Puerto Montt  \n",
       "4                   4182600   Los Lagos     Llanquihue  Puerto Montt  \n",
       "...                     ...         ...            ...           ...  \n",
       "34367               1721000   Los Lagos     Llanquihue  Puerto Montt  \n",
       "34368               1864000   Los Lagos         Osorno        Osorno  \n",
       "34369               2160000   Los Lagos     Llanquihue  Puerto Montt  \n",
       "34370               1721000   Los Lagos         Chiloe        Castro  \n",
       "34371               1766000   Los Lagos     Llanquihue  Puerto Montt  \n",
       "\n",
       "[34372 rows x 28 columns]"
      ]
     },
     "execution_count": 2,
     "metadata": {},
     "output_type": "execute_result"
    }
   ],
   "source": [
    "import pandas as pd\n",
    "Matriculas = pd.read_excel('14_MATRICULAS_ED_SUPERIOR_LOS_LAGOS_2021.xlsx')\n",
    "Matriculas"
   ]
  },
  {
   "cell_type": "markdown",
   "id": "0262ff7b",
   "metadata": {},
   "source": [
    "#  Item 1:"
   ]
  },
  {
   "cell_type": "markdown",
   "id": "02421a56",
   "metadata": {},
   "source": [
    "Poblacion: Todos los estudiantes de educacion que estan registrados en la region de los lagos en el año 2021\n",
    "\n",
    "Muestra: Los 34.373 estudiantes que fueron matriculados en el año 2021"
   ]
  },
  {
   "cell_type": "markdown",
   "id": "c8fd2112",
   "metadata": {},
   "source": [
    "# INSTRUCCIONES:\n",
    "\n",
    "Variable 1 Culitativa Nominal :\n",
    "\n",
    "Tabla frecuencia   f y h\n",
    "\n",
    "Grafico a elección // interpretación 2 aspectos relevantes\n",
    "\n",
    "Medida de tendencia central : Moda // calcular e  interpretar"
   ]
  },
  {
   "cell_type": "code",
   "execution_count": 6,
   "id": "975f4cf5",
   "metadata": {},
   "outputs": [
    {
     "data": {
      "text/html": [
       "<div>\n",
       "<style scoped>\n",
       "    .dataframe tbody tr th:only-of-type {\n",
       "        vertical-align: middle;\n",
       "    }\n",
       "\n",
       "    .dataframe tbody tr th {\n",
       "        vertical-align: top;\n",
       "    }\n",
       "\n",
       "    .dataframe thead th {\n",
       "        text-align: right;\n",
       "    }\n",
       "</style>\n",
       "<table border=\"1\" class=\"dataframe\">\n",
       "  <thead>\n",
       "    <tr style=\"text-align: right;\">\n",
       "      <th></th>\n",
       "      <th>Frecuencia absoluta (f)</th>\n",
       "      <th>Frecuencia relativa (%)</th>\n",
       "    </tr>\n",
       "    <tr>\n",
       "      <th>GENERO</th>\n",
       "      <th></th>\n",
       "      <th></th>\n",
       "    </tr>\n",
       "  </thead>\n",
       "  <tbody>\n",
       "    <tr>\n",
       "      <th>Femenino</th>\n",
       "      <td>20395</td>\n",
       "      <td>59.3</td>\n",
       "    </tr>\n",
       "    <tr>\n",
       "      <th>Masculino</th>\n",
       "      <td>13977</td>\n",
       "      <td>40.7</td>\n",
       "    </tr>\n",
       "  </tbody>\n",
       "</table>\n",
       "</div>"
      ],
      "text/plain": [
       "           Frecuencia absoluta (f)  Frecuencia relativa (%)\n",
       "GENERO                                                     \n",
       "Femenino                     20395                     59.3\n",
       "Masculino                    13977                     40.7"
      ]
     },
     "execution_count": 6,
     "metadata": {},
     "output_type": "execute_result"
    }
   ],
   "source": [
    "frecuencia_absoluta_1 = Matriculas.groupby('GENERO').size() \n",
    "muestra_1 = Matriculas.shape[0] \n",
    "frecuencia_relativa_1 = round(frecuencia_absoluta_1 / muestra_1 * 100, 1) \n",
    "tabla_genero = pd.DataFrame({ \n",
    "    'Frecuencia absoluta (f)': frecuencia_absoluta_1, \n",
    "    'Frecuencia relativa (%)': frecuencia_relativa_1 }) \n",
    "tabla_genero"
   ]
  },
  {
   "cell_type": "code",
   "execution_count": 10,
   "id": "711ee5a3",
   "metadata": {},
   "outputs": [
    {
     "data": {
      "image/png": "[encoded data removed]",
      "text/plain": [
       "<Figure size 600x600 with 1 Axes>"
      ]
     },
     "metadata": {},
     "output_type": "display_data"
    }
   ],
   "source": [
    "\n",
    "import matplotlib.pyplot as plt\n",
    "import numpy as np\n",
    "\n",
    "Categorias = tabla_genero.index\n",
    "f = tabla_genero['Frecuencia absoluta (f)']  \n",
    "fig, ax = plt.subplots(figsize=(6,6))\n",
    "barras = ax.bar(Categorias, f, color='red', edgecolor='black')  \n",
    "\n",
    "ax.set_title('Distribución de estudiantes según Género')\n",
    "ax.set_xlabel('Género')\n",
    "ax.set_ylabel('Cantidad de estudiantes')\n",
    "ax.bar_label(barras)\n",
    "plt.xticks(rotation=0)  \n",
    "plt.show()\n"
   ]
  },
  {
   "cell_type": "code",
   "execution_count": 15,
   "id": "33263829",
   "metadata": {},
   "outputs": [
    {
     "name": "stdout",
     "output_type": "stream",
     "text": [
      "La moda es 'F', lo que significa que el género más frecuente entre los estudiantes matriculados es Femenino\n"
     ]
    }
   ],
   "source": [
    "moda_genero = Matriculas['GENERO'].mode()[0]\n",
    "print(f\"La moda es '{moda_genero[0]}', lo que significa que el género más frecuente entre los estudiantes matriculados es {moda_genero}\")\n"
   ]
  },
  {
   "cell_type": "markdown",
   "id": "716710a6",
   "metadata": {},
   "source": [
    "Variable 2 Cualitativa Ordinal: \n",
    "\n",
    "Tabla de frecuencia f y h \n",
    "\n",
    "Gráfico a elección  // interpretación 2 aspectos relevantes\n",
    "\n",
    "Medida de tendencia central : Moda  // calcular e  interpretar"
   ]
  },
  {
   "cell_type": "code",
   "execution_count": 18,
   "id": "c92c0cf0",
   "metadata": {},
   "outputs": [
    {
     "data": {
      "text/html": [
       "<div>\n",
       "<style scoped>\n",
       "    .dataframe tbody tr th:only-of-type {\n",
       "        vertical-align: middle;\n",
       "    }\n",
       "\n",
       "    .dataframe tbody tr th {\n",
       "        vertical-align: top;\n",
       "    }\n",
       "\n",
       "    .dataframe thead th {\n",
       "        text-align: right;\n",
       "    }\n",
       "</style>\n",
       "<table border=\"1\" class=\"dataframe\">\n",
       "  <thead>\n",
       "    <tr style=\"text-align: right;\">\n",
       "      <th></th>\n",
       "      <th>Frecuencia absoluta (f)</th>\n",
       "      <th>Frecuencia relativa (%)</th>\n",
       "    </tr>\n",
       "    <tr>\n",
       "      <th>NIVEL CARRERA</th>\n",
       "      <th></th>\n",
       "      <th></th>\n",
       "    </tr>\n",
       "  </thead>\n",
       "  <tbody>\n",
       "    <tr>\n",
       "      <th>Carreras Profesionales</th>\n",
       "      <td>21685</td>\n",
       "      <td>63.1</td>\n",
       "    </tr>\n",
       "    <tr>\n",
       "      <th>Carreras Tecnicas</th>\n",
       "      <td>11797</td>\n",
       "      <td>34.3</td>\n",
       "    </tr>\n",
       "    <tr>\n",
       "      <th>Doctorado</th>\n",
       "      <td>24</td>\n",
       "      <td>0.1</td>\n",
       "    </tr>\n",
       "    <tr>\n",
       "      <th>Magister</th>\n",
       "      <td>636</td>\n",
       "      <td>1.9</td>\n",
       "    </tr>\n",
       "    <tr>\n",
       "      <th>Postitulo</th>\n",
       "      <td>230</td>\n",
       "      <td>0.7</td>\n",
       "    </tr>\n",
       "  </tbody>\n",
       "</table>\n",
       "</div>"
      ],
      "text/plain": [
       "                        Frecuencia absoluta (f)  Frecuencia relativa (%)\n",
       "NIVEL CARRERA                                                           \n",
       "Carreras Profesionales                    21685                     63.1\n",
       "Carreras Tecnicas                         11797                     34.3\n",
       "Doctorado                                    24                      0.1\n",
       "Magister                                    636                      1.9\n",
       "Postitulo                                   230                      0.7"
      ]
     },
     "execution_count": 18,
     "metadata": {},
     "output_type": "execute_result"
    }
   ],
   "source": [
    "frecuencia_absoluta_2 = Matriculas.groupby('NIVEL CARRERA').size()\n",
    "muestra_2 = Matriculas.shape[0]\n",
    "frecuencia_relativa_2 = round(frecuencia_absoluta_2 / muestra_2 * 100, 1)\n",
    "\n",
    "tabla_nivel = pd.DataFrame({\n",
    "    'Frecuencia absoluta (f)': frecuencia_absoluta_2,\n",
    "    'Frecuencia relativa (%)': frecuencia_relativa_2\n",
    "})\n",
    "\n",
    "tabla_nivel\n"
   ]
  },
  {
   "cell_type": "code",
   "execution_count": 21,
   "id": "04d210d8",
   "metadata": {},
   "outputs": [
    {
     "data": {
      "image/png": "[encoded data removed]",
      "text/plain": [
       "<Figure size 600x600 with 1 Axes>"
      ]
     },
     "metadata": {},
     "output_type": "display_data"
    }
   ],
   "source": [
    "Categorias = tabla_nivel.index\n",
    "f = tabla_nivel['Frecuencia absoluta (f)']\n",
    "\n",
    "fig, ax = plt.subplots(figsize=(6,6))\n",
    "barras = ax.bar(Categorias, f, color='red', edgecolor='black')\n",
    "\n",
    "ax.set_title('Distribución de estudiantes según Nivel de Carrera')\n",
    "ax.set_xlabel('Nivel de Carrera')\n",
    "ax.set_ylabel('Cantidad de estudiantes')\n",
    "ax.bar_label(barras)\n",
    "plt.xticks(rotation=45)  \n",
    "plt.show()\n"
   ]
  },
  {
   "cell_type": "code",
   "execution_count": 23,
   "id": "c8ae05b5",
   "metadata": {},
   "outputs": [
    {
     "name": "stdout",
     "output_type": "stream",
     "text": [
      "La moda de la variable NIVEL CARRERA es 'Carreras Profesionales', lo que significa que la mayoría de los estudiantes se encuentran en este nivel.\n"
     ]
    }
   ],
   "source": [
    "moda_nivel = Matriculas['NIVEL CARRERA'].mode()[0]\n",
    "print(f\"La moda de la variable NIVEL CARRERA es '{moda_nivel}', lo que significa que la mayoría de los estudiantes se encuentran en este nivel.\")\n"
   ]
  },
  {
   "cell_type": "code",
   "execution_count": null,
   "id": "15d4cdc5",
   "metadata": {},
   "outputs": [],
   "source": [
    "## Variable 3 Cuantitativa discreta:  EDAD\n",
    "## Tabla de frecuencia f, h , F y H \n",
    "## Gráfico a elección   //  interpretación 2 aspectos relevantes\n",
    "## Medida de tendencia central : Media-Moda- Mediana  // calcular e  interpretar\n",
    "## Percentiles 25 50 75   // calcular e  interpretar\n",
    "## Coeficiente de variación  Homogéneo y Heterogéneo   // calcular e  interpretar"
   ]
  },
  {
   "cell_type": "code",
   "execution_count": null,
   "id": "c1fa2a44",
   "metadata": {},
   "outputs": [],
   "source": [
    "intervalos_edad = Matriculas.groupby('EDAD',observed=True).size()\n",
    "\n",
    "intervalos_edad"
   ]
  },
  {
   "cell_type": "code",
   "execution_count": null,
   "id": "78e8432e",
   "metadata": {},
   "outputs": [],
   "source": [
    "Matriculas['Intervalos'] = pd.cut(Matriculas['EDAD'], bins=10, include_lowest=True, precision=0)\n",
    "intervalos_edad = Matriculas.groupby('Intervalos', observed=True).size()\n",
    "\n",
    "tabla_edad = pd.DataFrame({\n",
    "    'Frecuencia absoluta':intervalos_edad,\n",
    "    'Frecuencia absoluta acumulada':intervalos_edad.cumsum(),\n",
    "    'Frecuencia relativa (%)': (intervalos_edad/34372 * 100).round(2),\n",
    "    'Frecuencia relativa acumulada (%)':((intervalos_edad/34372 *100).cumsum()).round(2)\n",
    "})\n",
    "\n",
    "tabla_edad"
   ]
  },
  {
   "cell_type": "code",
   "execution_count": 25,
   "id": "0969be96",
   "metadata": {},
   "outputs": [
    {
     "data": {
      "image/png": "[encoded data removed]",
      "text/plain": [
       "<Figure size 600x700 with 1 Axes>"
      ]
     },
     "metadata": {},
     "output_type": "display_data"
    }
   ],
   "source": [
    "import matplotlib.pyplot as plt\n",
    "import numpy as np\n",
    "\n",
    "categorias = tabla_edad.index\n",
    "f= tabla_edad['Frecuencia absoluta']   \n",
    "\n",
    "fig, ax = plt.subplots(figsize = (6,7))\n",
    "histograma= ax.bar(categorias.astype(str), f, color = 'b', edgecolor = 'black') \n",
    "\n",
    "\n",
    "ax.set_title('Distribución edad de los Estudiantes')\n",
    "ax.set_xlabel('Edad (años)')\n",
    "ax.set_ylabel('Cantidad de Estudiantes')\n",
    "ax.bar_label(histograma)\n",
    "plt.xticks(rotation=45, ha = 'right') \n",
    "plt.show()"
   ]
  },
  {
   "cell_type": "markdown",
   "id": "9be2f14e",
   "metadata": {},
   "source": [
    "# 1 \n",
    "La mayor parte de los estudiantes en la region de Los Lagos se concentra en los rangos de edad entre 16 y 22 años, con más de 15.000 personas. Esto es correcto ya que es la edad típica de ingreso a educación superior y refleja una población estudiantil mayoritariamente joven "
   ]
  },
  {
   "cell_type": "markdown",
   "id": "ed1883d9",
   "metadata": {},
   "source": [
    "# 2\n",
    "A partir de los 28 años de edad, la cantidad de estudiantes en la region de Los Lagos baja drásticamente, esto sugiere que la educación superior en edades mayores es poco frecuente pero no inexistente"
   ]
  },
  {
   "cell_type": "code",
   "execution_count": 20,
   "id": "040960e1",
   "metadata": {},
   "outputs": [
    {
     "data": {
      "text/plain": [
       "np.float64(24.991679273827533)"
      ]
     },
     "execution_count": 20,
     "metadata": {},
     "output_type": "execute_result"
    }
   ],
   "source": [
    "media_edad = Matriculas['EDAD'].mean()\n",
    "media_edad"
   ]
  },
  {
   "cell_type": "markdown",
   "id": "f7600c1e",
   "metadata": {},
   "source": [
    "La edad promedio de los estudiantes de la region de Los Lagos es de 25 años"
   ]
  },
  {
   "cell_type": "code",
   "execution_count": 19,
   "id": "a6ca39e5",
   "metadata": {},
   "outputs": [
    {
     "data": {
      "text/plain": [
       "0    19\n",
       "Name: EDAD, dtype: int64"
      ]
     },
     "execution_count": 19,
     "metadata": {},
     "output_type": "execute_result"
    }
   ],
   "source": [
    "moda_edad = Matriculas['EDAD'].mode()\n",
    "moda_edad"
   ]
  },
  {
   "cell_type": "markdown",
   "id": "fc4d207d",
   "metadata": {},
   "source": [
    "La edad que más se repite entre los estudiantes de la region de Los Lagos es de 19 años"
   ]
  },
  {
   "cell_type": "code",
   "execution_count": 21,
   "id": "872620c0",
   "metadata": {},
   "outputs": [
    {
     "data": {
      "text/plain": [
       "np.float64(23.0)"
      ]
     },
     "execution_count": 21,
     "metadata": {},
     "output_type": "execute_result"
    }
   ],
   "source": [
    "mediana_edad = Matriculas['EDAD'].median()\n",
    "mediana_edad"
   ]
  },
  {
   "cell_type": "markdown",
   "id": "177d7d40",
   "metadata": {},
   "source": [
    "La mitad de la edad de los estudiantes de la region de Los Lagos es de 23 años"
   ]
  },
  {
   "cell_type": "code",
   "execution_count": null,
   "id": "d8aaddc5",
   "metadata": {},
   "outputs": [
    {
     "data": {
      "text/plain": [
       "np.float64(21.0)"
      ]
     },
     "execution_count": 22,
     "metadata": {},
     "output_type": "execute_result"
    }
   ],
   "source": [
    "percentil_25 = Matriculas['EDAD'].quantile(0.25)\n",
    "percentil_25"
   ]
  },
  {
   "cell_type": "markdown",
   "id": "998f5c50",
   "metadata": {},
   "source": [
    "El 25% de los estudiantes de la region de Los Lagos es menor o igual a 21 años de edad"
   ]
  },
  {
   "cell_type": "code",
   "execution_count": 23,
   "id": "0e164c7b",
   "metadata": {},
   "outputs": [
    {
     "data": {
      "text/plain": [
       "np.float64(23.0)"
      ]
     },
     "execution_count": 23,
     "metadata": {},
     "output_type": "execute_result"
    }
   ],
   "source": [
    "percentil_50 = Matriculas['EDAD'].quantile(0.50)\n",
    "percentil_50"
   ]
  },
  {
   "cell_type": "markdown",
   "id": "cb37dc33",
   "metadata": {},
   "source": [
    "El 50% de los estudiantes de la region de Los Lagos es menor o igual a 23 años de edad"
   ]
  },
  {
   "cell_type": "code",
   "execution_count": 24,
   "id": "f013a764",
   "metadata": {},
   "outputs": [
    {
     "data": {
      "text/plain": [
       "np.float64(27.0)"
      ]
     },
     "execution_count": 24,
     "metadata": {},
     "output_type": "execute_result"
    }
   ],
   "source": [
    "percentil_75 = Matriculas['EDAD'].quantile(0.75)\n",
    "percentil_75"
   ]
  },
  {
   "cell_type": "markdown",
   "id": "e06ca978",
   "metadata": {},
   "source": [
    "El 75% de los estudiantes de la region de Los Lagos es menor o igual a 27 años de edad"
   ]
  },
  {
   "cell_type": "code",
   "execution_count": 26,
   "id": "517a1f4b",
   "metadata": {},
   "outputs": [
    {
     "data": {
      "text/html": [
       "<div>\n",
       "<style scoped>\n",
       "    .dataframe tbody tr th:only-of-type {\n",
       "        vertical-align: middle;\n",
       "    }\n",
       "\n",
       "    .dataframe tbody tr th {\n",
       "        vertical-align: top;\n",
       "    }\n",
       "\n",
       "    .dataframe thead th {\n",
       "        text-align: right;\n",
       "    }\n",
       "</style>\n",
       "<table border=\"1\" class=\"dataframe\">\n",
       "  <thead>\n",
       "    <tr style=\"text-align: right;\">\n",
       "      <th></th>\n",
       "      <th>ID</th>\n",
       "      <th>EDAD</th>\n",
       "      <th>AÑO INGRESO</th>\n",
       "      <th>AÑOS DE ACREDITACION</th>\n",
       "      <th>DURACION PLAN DE ESTUDIO (SEMESTRES)</th>\n",
       "      <th>DURACION PROCESO TITULACION (SEMESTRES)</th>\n",
       "      <th>DURACION TOTAL CARRERA (SEMESTRES)</th>\n",
       "      <th>VALOR MATRICULA (PESOS)</th>\n",
       "      <th>VALOR ARANCEL (PESOS)</th>\n",
       "    </tr>\n",
       "  </thead>\n",
       "  <tbody>\n",
       "    <tr>\n",
       "      <th>count</th>\n",
       "      <td>34372.0</td>\n",
       "      <td>34372.0</td>\n",
       "      <td>34372.0</td>\n",
       "      <td>33844.0</td>\n",
       "      <td>34372.0</td>\n",
       "      <td>34372.0</td>\n",
       "      <td>34372.0</td>\n",
       "      <td>34372.0</td>\n",
       "      <td>34372.0</td>\n",
       "    </tr>\n",
       "    <tr>\n",
       "      <th>mean</th>\n",
       "      <td>521573.0</td>\n",
       "      <td>25.0</td>\n",
       "      <td>2019.0</td>\n",
       "      <td>5.0</td>\n",
       "      <td>8.0</td>\n",
       "      <td>0.0</td>\n",
       "      <td>8.0</td>\n",
       "      <td>162787.0</td>\n",
       "      <td>2687242.0</td>\n",
       "    </tr>\n",
       "    <tr>\n",
       "      <th>std</th>\n",
       "      <td>302819.0</td>\n",
       "      <td>7.0</td>\n",
       "      <td>2.0</td>\n",
       "      <td>1.0</td>\n",
       "      <td>3.0</td>\n",
       "      <td>1.0</td>\n",
       "      <td>3.0</td>\n",
       "      <td>92469.0</td>\n",
       "      <td>1168140.0</td>\n",
       "    </tr>\n",
       "    <tr>\n",
       "      <th>min</th>\n",
       "      <td>45.0</td>\n",
       "      <td>17.0</td>\n",
       "      <td>1995.0</td>\n",
       "      <td>2.0</td>\n",
       "      <td>1.0</td>\n",
       "      <td>0.0</td>\n",
       "      <td>1.0</td>\n",
       "      <td>0.0</td>\n",
       "      <td>0.0</td>\n",
       "    </tr>\n",
       "    <tr>\n",
       "      <th>25%</th>\n",
       "      <td>258221.0</td>\n",
       "      <td>21.0</td>\n",
       "      <td>2018.0</td>\n",
       "      <td>4.0</td>\n",
       "      <td>5.0</td>\n",
       "      <td>0.0</td>\n",
       "      <td>5.0</td>\n",
       "      <td>134000.0</td>\n",
       "      <td>1790000.0</td>\n",
       "    </tr>\n",
       "    <tr>\n",
       "      <th>50%</th>\n",
       "      <td>519136.0</td>\n",
       "      <td>23.0</td>\n",
       "      <td>2020.0</td>\n",
       "      <td>5.0</td>\n",
       "      <td>8.0</td>\n",
       "      <td>0.0</td>\n",
       "      <td>8.0</td>\n",
       "      <td>175000.0</td>\n",
       "      <td>2160000.0</td>\n",
       "    </tr>\n",
       "    <tr>\n",
       "      <th>75%</th>\n",
       "      <td>783417.0</td>\n",
       "      <td>27.0</td>\n",
       "      <td>2021.0</td>\n",
       "      <td>5.0</td>\n",
       "      <td>10.0</td>\n",
       "      <td>1.0</td>\n",
       "      <td>10.0</td>\n",
       "      <td>190000.0</td>\n",
       "      <td>3757000.0</td>\n",
       "    </tr>\n",
       "    <tr>\n",
       "      <th>max</th>\n",
       "      <td>1048473.0</td>\n",
       "      <td>72.0</td>\n",
       "      <td>2021.0</td>\n",
       "      <td>7.0</td>\n",
       "      <td>14.0</td>\n",
       "      <td>2.0</td>\n",
       "      <td>14.0</td>\n",
       "      <td>1400000.0</td>\n",
       "      <td>7725000.0</td>\n",
       "    </tr>\n",
       "  </tbody>\n",
       "</table>\n",
       "</div>"
      ],
      "text/plain": [
       "              ID     EDAD  AÑO INGRESO  AÑOS DE ACREDITACION  \\\n",
       "count    34372.0  34372.0      34372.0               33844.0   \n",
       "mean    521573.0     25.0       2019.0                   5.0   \n",
       "std     302819.0      7.0          2.0                   1.0   \n",
       "min         45.0     17.0       1995.0                   2.0   \n",
       "25%     258221.0     21.0       2018.0                   4.0   \n",
       "50%     519136.0     23.0       2020.0                   5.0   \n",
       "75%     783417.0     27.0       2021.0                   5.0   \n",
       "max    1048473.0     72.0       2021.0                   7.0   \n",
       "\n",
       "       DURACION PLAN DE ESTUDIO (SEMESTRES)  \\\n",
       "count                               34372.0   \n",
       "mean                                    8.0   \n",
       "std                                     3.0   \n",
       "min                                     1.0   \n",
       "25%                                     5.0   \n",
       "50%                                     8.0   \n",
       "75%                                    10.0   \n",
       "max                                    14.0   \n",
       "\n",
       "       DURACION PROCESO TITULACION (SEMESTRES)  \\\n",
       "count                                  34372.0   \n",
       "mean                                       0.0   \n",
       "std                                        1.0   \n",
       "min                                        0.0   \n",
       "25%                                        0.0   \n",
       "50%                                        0.0   \n",
       "75%                                        1.0   \n",
       "max                                        2.0   \n",
       "\n",
       "       DURACION TOTAL CARRERA (SEMESTRES)  VALOR MATRICULA (PESOS)  \\\n",
       "count                             34372.0                  34372.0   \n",
       "mean                                  8.0                 162787.0   \n",
       "std                                   3.0                  92469.0   \n",
       "min                                   1.0                      0.0   \n",
       "25%                                   5.0                 134000.0   \n",
       "50%                                   8.0                 175000.0   \n",
       "75%                                  10.0                 190000.0   \n",
       "max                                  14.0                1400000.0   \n",
       "\n",
       "       VALOR ARANCEL (PESOS)  \n",
       "count                34372.0  \n",
       "mean               2687242.0  \n",
       "std                1168140.0  \n",
       "min                      0.0  \n",
       "25%                1790000.0  \n",
       "50%                2160000.0  \n",
       "75%                3757000.0  \n",
       "max                7725000.0  "
      ]
     },
     "execution_count": 26,
     "metadata": {},
     "output_type": "execute_result"
    }
   ],
   "source": [
    "Matriculas.describe().round()"
   ]
  },
  {
   "cell_type": "markdown",
   "id": "4ad1fdae",
   "metadata": {},
   "source": [
    "Desviación : 7"
   ]
  },
  {
   "cell_type": "code",
   "execution_count": 30,
   "id": "cb3e39d7",
   "metadata": {},
   "outputs": [
    {
     "data": {
      "text/plain": [
       "28.000000000000004"
      ]
     },
     "execution_count": 30,
     "metadata": {},
     "output_type": "execute_result"
    }
   ],
   "source": [
    "cv = 7/25*100\n",
    "cv"
   ]
  },
  {
   "cell_type": "markdown",
   "id": "6a5112e1",
   "metadata": {},
   "source": [
    "La edad presenta un comportamiento heterogeneo, ya que el Coeficiente de Variación de la edad es de 28%"
   ]
  },
  {
   "cell_type": "code",
   "execution_count": null,
   "id": "19d7a9f8",
   "metadata": {},
   "outputs": [],
   "source": [
    "## Variable 3 Cuantitativa Continua : \n",
    "## Tabla de frecuencia f, h , F y H \n",
    "## Gráfico Histograma // Interpretar 3 aspectos relevantes: intervalos mayor y menor frecuencia y el rango.\n",
    "## Medida de tendencia central : Media-Moda- Mediana  // calcular e  interpretar\n",
    "## Percentiles 25 50 75   // calcular e  interpretar\n",
    "## Coeficiente de variación Homogéneo y Heterogéneo  // calcular e  interpretar"
   ]
  },
  {
   "cell_type": "markdown",
   "id": "c1cc7e93",
   "metadata": {},
   "source": [
    "# Item 2"
   ]
  },
  {
   "cell_type": "code",
   "execution_count": null,
   "id": "1c55722b",
   "metadata": {},
   "outputs": [],
   "source": [
    "## Pregunta 1"
   ]
  },
  {
   "cell_type": "code",
   "execution_count": null,
   "id": "568d2889",
   "metadata": {},
   "outputs": [],
   "source": [
    "## Pregunta 2"
   ]
  },
  {
   "cell_type": "code",
   "execution_count": null,
   "id": "0b818d63",
   "metadata": {},
   "outputs": [],
   "source": [
    "## Pregunta 3"
   ]
  }
 ],
 "metadata": {
  "kernelspec": {
   "display_name": "Python 3",
   "language": "python",
   "name": "python3"
  },
  "language_info": {
   "codemirror_mode": {
    "name": "ipython",
    "version": 3
   },
   "file_extension": ".py",
   "mimetype": "text/x-python",
   "name": "python",
   "nbconvert_exporter": "python",
   "pygments_lexer": "ipython3",
   "version": "3.12.10"
  }
 },
 "nbformat": 4,
 "nbformat_minor": 5
}
