{
 "cells": [
  {
   "cell_type": "markdown",
   "metadata": {
    "id": "xOobbUyQ1Gcp"
   },
   "source": [
    "# Gráficos"
   ]
  },
  {
   "cell_type": "markdown",
   "metadata": {
    "id": "CyxBrTfM0fl7"
   },
   "source": [
    "## Objetivos:"
   ]
  },
  {
   "cell_type": "markdown",
   "metadata": {
    "id": "SecOQfVP0mA9"
   },
   "source": [
    "Representar variables estadísticas mediante gráficos adecuados según su clasificación y realizar análisis de la información presentada."
   ]
  },
  {
   "cell_type": "markdown",
   "metadata": {
    "id": "b-4eiQ2K04sv"
   },
   "source": [
    "*Nota: Este laboratorio está diseñado para desarrollar razonamiento estadístico. Evita el uso de herramientas de IA para responder las preguntas a menos que esto sea explícitamente sugerido* 🤖. *En su lugar, enfócate en aplicar los conceptos revisados.*"
   ]
  },
  {
   "cell_type": "markdown",
   "metadata": {
    "id": "GF6_K6jHQA1z"
   },
   "source": [
    "## Contexto actividades 1, 2 y 3:"
   ]
  },
  {
   "cell_type": "markdown",
   "metadata": {
    "id": "BcwQToS6QEs7"
   },
   "source": [
    "Una empresa consultora en tecnología desea realizar un estudio exploratorio sobre el perfil de profesionales del área de Tecnologías de la Información (TI). Para ello, recolectó datos de 100.000 trabajadores del sector, incluyendo su edad, ocupación y el lenguaje de programación que utilizan principalmente en su trabajo diario.\n",
    "\n",
    "Como analista de datos, te han encargado generar representaciones gráficas que permitan visualizar esta información de manera clara, elegir los tipos de gráficos más adecuados según las variables involucradas e interpretar los resultados para apoyar la toma de decisiones de la empresa.\n",
    "\n",
    "**Utiliza la siguiente base de datos para responder las actividades 1, 2 y 3.**\n",
    "\n",
    "Descarga la base de datos **<a href=\"https://docs.google.com/spreadsheets/d/1-oqPhxbNrN3c4BFQjTn_TgMrD67djWEW/export?format=xlsx\n",
    "\">aquí</a>**."
   ]
  },
  {
   "cell_type": "markdown",
   "metadata": {
    "id": "MOPpj52P1Jto"
   },
   "source": [
    "### Actividad 1"
   ]
  },
  {
   "cell_type": "code",
   "execution_count": 3,
   "metadata": {},
   "outputs": [
    {
     "data": {
      "text/html": [
       "<div>\n",
       "<style scoped>\n",
       "    .dataframe tbody tr th:only-of-type {\n",
       "        vertical-align: middle;\n",
       "    }\n",
       "\n",
       "    .dataframe tbody tr th {\n",
       "        vertical-align: top;\n",
       "    }\n",
       "\n",
       "    .dataframe thead th {\n",
       "        text-align: right;\n",
       "    }\n",
       "</style>\n",
       "<table border=\"1\" class=\"dataframe\">\n",
       "  <thead>\n",
       "    <tr style=\"text-align: right;\">\n",
       "      <th></th>\n",
       "      <th>Nombre</th>\n",
       "      <th>Edad</th>\n",
       "      <th>Ocupación</th>\n",
       "      <th>Dirección</th>\n",
       "      <th>Lenguaje de programación</th>\n",
       "    </tr>\n",
       "  </thead>\n",
       "  <tbody>\n",
       "    <tr>\n",
       "      <th>0</th>\n",
       "      <td>rPVcXhHW</td>\n",
       "      <td>37</td>\n",
       "      <td>Ingeniero de Redes</td>\n",
       "      <td>New York, Australia</td>\n",
       "      <td>Python</td>\n",
       "    </tr>\n",
       "    <tr>\n",
       "      <th>1</th>\n",
       "      <td>LOPiglaS</td>\n",
       "      <td>32</td>\n",
       "      <td>Programador</td>\n",
       "      <td>Paris, Australia</td>\n",
       "      <td>Python</td>\n",
       "    </tr>\n",
       "    <tr>\n",
       "      <th>2</th>\n",
       "      <td>cKGfSRhy</td>\n",
       "      <td>39</td>\n",
       "      <td>Programador</td>\n",
       "      <td>London, France</td>\n",
       "      <td>Python</td>\n",
       "    </tr>\n",
       "    <tr>\n",
       "      <th>3</th>\n",
       "      <td>akthsxrW</td>\n",
       "      <td>46</td>\n",
       "      <td>Ingeniero de Redes</td>\n",
       "      <td>New York, Japan</td>\n",
       "      <td>Python</td>\n",
       "    </tr>\n",
       "    <tr>\n",
       "      <th>4</th>\n",
       "      <td>GyDdqUfu</td>\n",
       "      <td>32</td>\n",
       "      <td>Desarrollador Web</td>\n",
       "      <td>Sydney, Japan</td>\n",
       "      <td>JavaScript</td>\n",
       "    </tr>\n",
       "    <tr>\n",
       "      <th>...</th>\n",
       "      <td>...</td>\n",
       "      <td>...</td>\n",
       "      <td>...</td>\n",
       "      <td>...</td>\n",
       "      <td>...</td>\n",
       "    </tr>\n",
       "    <tr>\n",
       "      <th>99995</th>\n",
       "      <td>TiQuVnNa</td>\n",
       "      <td>32</td>\n",
       "      <td>Científico de Datos</td>\n",
       "      <td>Paris, UK</td>\n",
       "      <td>C#</td>\n",
       "    </tr>\n",
       "    <tr>\n",
       "      <th>99996</th>\n",
       "      <td>LHUuDXLU</td>\n",
       "      <td>29</td>\n",
       "      <td>Científico de Datos</td>\n",
       "      <td>Paris, France</td>\n",
       "      <td>JavaScript</td>\n",
       "    </tr>\n",
       "    <tr>\n",
       "      <th>99997</th>\n",
       "      <td>cJYYCToX</td>\n",
       "      <td>37</td>\n",
       "      <td>Desarrollador Web</td>\n",
       "      <td>Tokyo, Japan</td>\n",
       "      <td>Python</td>\n",
       "    </tr>\n",
       "    <tr>\n",
       "      <th>99998</th>\n",
       "      <td>dZUckDFp</td>\n",
       "      <td>32</td>\n",
       "      <td>Desarrollador Web</td>\n",
       "      <td>New York, UK</td>\n",
       "      <td>Python</td>\n",
       "    </tr>\n",
       "    <tr>\n",
       "      <th>99999</th>\n",
       "      <td>qtejPzNu</td>\n",
       "      <td>34</td>\n",
       "      <td>Desarrollador Web</td>\n",
       "      <td>Sydney, Germany</td>\n",
       "      <td>Python</td>\n",
       "    </tr>\n",
       "  </tbody>\n",
       "</table>\n",
       "<p>100000 rows × 5 columns</p>\n",
       "</div>"
      ],
      "text/plain": [
       "         Nombre  Edad            Ocupación            Dirección  \\\n",
       "0      rPVcXhHW    37   Ingeniero de Redes  New York, Australia   \n",
       "1      LOPiglaS    32          Programador     Paris, Australia   \n",
       "2      cKGfSRhy    39          Programador       London, France   \n",
       "3      akthsxrW    46   Ingeniero de Redes      New York, Japan   \n",
       "4      GyDdqUfu    32    Desarrollador Web        Sydney, Japan   \n",
       "...         ...   ...                  ...                  ...   \n",
       "99995  TiQuVnNa    32  Científico de Datos            Paris, UK   \n",
       "99996  LHUuDXLU    29  Científico de Datos        Paris, France   \n",
       "99997  cJYYCToX    37    Desarrollador Web         Tokyo, Japan   \n",
       "99998  dZUckDFp    32    Desarrollador Web         New York, UK   \n",
       "99999  qtejPzNu    34    Desarrollador Web      Sydney, Germany   \n",
       "\n",
       "      Lenguaje de programación  \n",
       "0                       Python  \n",
       "1                       Python  \n",
       "2                       Python  \n",
       "3                       Python  \n",
       "4                   JavaScript  \n",
       "...                        ...  \n",
       "99995                       C#  \n",
       "99996               JavaScript  \n",
       "99997                   Python  \n",
       "99998                   Python  \n",
       "99999                   Python  \n",
       "\n",
       "[100000 rows x 5 columns]"
      ]
     },
     "execution_count": 3,
     "metadata": {},
     "output_type": "execute_result"
    }
   ],
   "source": [
    "import pandas as pd\n",
    "\n",
    "Trabajadores = pd.read_excel(\"BDActividad_1_2_3L3.xlsx\")\n",
    "Trabajadores"
   ]
  },
  {
   "cell_type": "markdown",
   "metadata": {
    "id": "kK4zvRwpU8Rj"
   },
   "source": [
    "1. Identifica la población y la muestra del estudio."
   ]
  },
  {
   "cell_type": "markdown",
   "metadata": {},
   "source": [
    "Población: Trabajadores del area de Tecnologia de la Informatica\n",
    "\n",
    "Muestra: 100000 trabajadores"
   ]
  },
  {
   "cell_type": "markdown",
   "metadata": {
    "id": "ZId1fOBocbFT"
   },
   "source": [
    "2. Importa la base de datos y muestra las primeras 5 filas y las últimas 5 filas del DataFrame."
   ]
  },
  {
   "cell_type": "code",
   "execution_count": 5,
   "metadata": {},
   "outputs": [
    {
     "data": {
      "text/html": [
       "<div>\n",
       "<style scoped>\n",
       "    .dataframe tbody tr th:only-of-type {\n",
       "        vertical-align: middle;\n",
       "    }\n",
       "\n",
       "    .dataframe tbody tr th {\n",
       "        vertical-align: top;\n",
       "    }\n",
       "\n",
       "    .dataframe thead th {\n",
       "        text-align: right;\n",
       "    }\n",
       "</style>\n",
       "<table border=\"1\" class=\"dataframe\">\n",
       "  <thead>\n",
       "    <tr style=\"text-align: right;\">\n",
       "      <th></th>\n",
       "      <th>Nombre</th>\n",
       "      <th>Edad</th>\n",
       "      <th>Ocupación</th>\n",
       "      <th>Dirección</th>\n",
       "      <th>Lenguaje de programación</th>\n",
       "    </tr>\n",
       "  </thead>\n",
       "  <tbody>\n",
       "    <tr>\n",
       "      <th>0</th>\n",
       "      <td>rPVcXhHW</td>\n",
       "      <td>37</td>\n",
       "      <td>Ingeniero de Redes</td>\n",
       "      <td>New York, Australia</td>\n",
       "      <td>Python</td>\n",
       "    </tr>\n",
       "    <tr>\n",
       "      <th>1</th>\n",
       "      <td>LOPiglaS</td>\n",
       "      <td>32</td>\n",
       "      <td>Programador</td>\n",
       "      <td>Paris, Australia</td>\n",
       "      <td>Python</td>\n",
       "    </tr>\n",
       "    <tr>\n",
       "      <th>2</th>\n",
       "      <td>cKGfSRhy</td>\n",
       "      <td>39</td>\n",
       "      <td>Programador</td>\n",
       "      <td>London, France</td>\n",
       "      <td>Python</td>\n",
       "    </tr>\n",
       "    <tr>\n",
       "      <th>3</th>\n",
       "      <td>akthsxrW</td>\n",
       "      <td>46</td>\n",
       "      <td>Ingeniero de Redes</td>\n",
       "      <td>New York, Japan</td>\n",
       "      <td>Python</td>\n",
       "    </tr>\n",
       "    <tr>\n",
       "      <th>4</th>\n",
       "      <td>GyDdqUfu</td>\n",
       "      <td>32</td>\n",
       "      <td>Desarrollador Web</td>\n",
       "      <td>Sydney, Japan</td>\n",
       "      <td>JavaScript</td>\n",
       "    </tr>\n",
       "  </tbody>\n",
       "</table>\n",
       "</div>"
      ],
      "text/plain": [
       "     Nombre  Edad           Ocupación            Dirección  \\\n",
       "0  rPVcXhHW    37  Ingeniero de Redes  New York, Australia   \n",
       "1  LOPiglaS    32         Programador     Paris, Australia   \n",
       "2  cKGfSRhy    39         Programador       London, France   \n",
       "3  akthsxrW    46  Ingeniero de Redes      New York, Japan   \n",
       "4  GyDdqUfu    32   Desarrollador Web        Sydney, Japan   \n",
       "\n",
       "  Lenguaje de programación  \n",
       "0                   Python  \n",
       "1                   Python  \n",
       "2                   Python  \n",
       "3                   Python  \n",
       "4               JavaScript  "
      ]
     },
     "execution_count": 5,
     "metadata": {},
     "output_type": "execute_result"
    }
   ],
   "source": [
    "Trabajadores.head(5)"
   ]
  },
  {
   "cell_type": "code",
   "execution_count": 6,
   "metadata": {},
   "outputs": [
    {
     "data": {
      "text/html": [
       "<div>\n",
       "<style scoped>\n",
       "    .dataframe tbody tr th:only-of-type {\n",
       "        vertical-align: middle;\n",
       "    }\n",
       "\n",
       "    .dataframe tbody tr th {\n",
       "        vertical-align: top;\n",
       "    }\n",
       "\n",
       "    .dataframe thead th {\n",
       "        text-align: right;\n",
       "    }\n",
       "</style>\n",
       "<table border=\"1\" class=\"dataframe\">\n",
       "  <thead>\n",
       "    <tr style=\"text-align: right;\">\n",
       "      <th></th>\n",
       "      <th>Nombre</th>\n",
       "      <th>Edad</th>\n",
       "      <th>Ocupación</th>\n",
       "      <th>Dirección</th>\n",
       "      <th>Lenguaje de programación</th>\n",
       "    </tr>\n",
       "  </thead>\n",
       "  <tbody>\n",
       "    <tr>\n",
       "      <th>99995</th>\n",
       "      <td>TiQuVnNa</td>\n",
       "      <td>32</td>\n",
       "      <td>Científico de Datos</td>\n",
       "      <td>Paris, UK</td>\n",
       "      <td>C#</td>\n",
       "    </tr>\n",
       "    <tr>\n",
       "      <th>99996</th>\n",
       "      <td>LHUuDXLU</td>\n",
       "      <td>29</td>\n",
       "      <td>Científico de Datos</td>\n",
       "      <td>Paris, France</td>\n",
       "      <td>JavaScript</td>\n",
       "    </tr>\n",
       "    <tr>\n",
       "      <th>99997</th>\n",
       "      <td>cJYYCToX</td>\n",
       "      <td>37</td>\n",
       "      <td>Desarrollador Web</td>\n",
       "      <td>Tokyo, Japan</td>\n",
       "      <td>Python</td>\n",
       "    </tr>\n",
       "    <tr>\n",
       "      <th>99998</th>\n",
       "      <td>dZUckDFp</td>\n",
       "      <td>32</td>\n",
       "      <td>Desarrollador Web</td>\n",
       "      <td>New York, UK</td>\n",
       "      <td>Python</td>\n",
       "    </tr>\n",
       "    <tr>\n",
       "      <th>99999</th>\n",
       "      <td>qtejPzNu</td>\n",
       "      <td>34</td>\n",
       "      <td>Desarrollador Web</td>\n",
       "      <td>Sydney, Germany</td>\n",
       "      <td>Python</td>\n",
       "    </tr>\n",
       "  </tbody>\n",
       "</table>\n",
       "</div>"
      ],
      "text/plain": [
       "         Nombre  Edad            Ocupación        Dirección  \\\n",
       "99995  TiQuVnNa    32  Científico de Datos        Paris, UK   \n",
       "99996  LHUuDXLU    29  Científico de Datos    Paris, France   \n",
       "99997  cJYYCToX    37    Desarrollador Web     Tokyo, Japan   \n",
       "99998  dZUckDFp    32    Desarrollador Web     New York, UK   \n",
       "99999  qtejPzNu    34    Desarrollador Web  Sydney, Germany   \n",
       "\n",
       "      Lenguaje de programación  \n",
       "99995                       C#  \n",
       "99996               JavaScript  \n",
       "99997                   Python  \n",
       "99998                   Python  \n",
       "99999                   Python  "
      ]
     },
     "execution_count": 6,
     "metadata": {},
     "output_type": "execute_result"
    }
   ],
   "source": [
    "Trabajadores.tail(5)"
   ]
  },
  {
   "cell_type": "markdown",
   "metadata": {
    "id": "BfDI3uuDVVd8"
   },
   "source": [
    "3. ¿Cuál es la clasificación de la variable *Ocupación*? ¿Qué tipo de gráfico es el más adecuado para este tipo de variable?"
   ]
  },
  {
   "cell_type": "markdown",
   "metadata": {},
   "source": [
    "Ocupacion: Cualitativa Nominal"
   ]
  },
  {
   "cell_type": "markdown",
   "metadata": {},
   "source": [
    "Gráfico ciruclar\n",
    "\n",
    "Gráfico de barras"
   ]
  },
  {
   "cell_type": "markdown",
   "metadata": {
    "id": "5C6TgIW3bizY"
   },
   "source": [
    "4. Construye una tabla de frecuencias relativas para la variable *Ocupación* y luego visualízala mediante un gráfico circular."
   ]
  },
  {
   "cell_type": "code",
   "execution_count": 8,
   "metadata": {},
   "outputs": [
    {
     "data": {
      "text/html": [
       "<div>\n",
       "<style scoped>\n",
       "    .dataframe tbody tr th:only-of-type {\n",
       "        vertical-align: middle;\n",
       "    }\n",
       "\n",
       "    .dataframe tbody tr th {\n",
       "        vertical-align: top;\n",
       "    }\n",
       "\n",
       "    .dataframe thead th {\n",
       "        text-align: right;\n",
       "    }\n",
       "</style>\n",
       "<table border=\"1\" class=\"dataframe\">\n",
       "  <thead>\n",
       "    <tr style=\"text-align: right;\">\n",
       "      <th></th>\n",
       "      <th>Frecuencia absoluta (f)</th>\n",
       "    </tr>\n",
       "    <tr>\n",
       "      <th>Ocupación</th>\n",
       "      <th></th>\n",
       "    </tr>\n",
       "  </thead>\n",
       "  <tbody>\n",
       "    <tr>\n",
       "      <th>Administrador de Base de datos</th>\n",
       "      <td>11838</td>\n",
       "    </tr>\n",
       "    <tr>\n",
       "      <th>Administrador de Sistemas</th>\n",
       "      <td>6588</td>\n",
       "    </tr>\n",
       "    <tr>\n",
       "      <th>Científico de Datos</th>\n",
       "      <td>10174</td>\n",
       "    </tr>\n",
       "    <tr>\n",
       "      <th>Desarrollador Web</th>\n",
       "      <td>21420</td>\n",
       "    </tr>\n",
       "    <tr>\n",
       "      <th>Ingeniero de Redes</th>\n",
       "      <td>24154</td>\n",
       "    </tr>\n",
       "    <tr>\n",
       "      <th>Programador</th>\n",
       "      <td>25826</td>\n",
       "    </tr>\n",
       "  </tbody>\n",
       "</table>\n",
       "</div>"
      ],
      "text/plain": [
       "                                Frecuencia absoluta (f)\n",
       "Ocupación                                              \n",
       "Administrador de Base de datos                    11838\n",
       "Administrador de Sistemas                          6588\n",
       "Científico de Datos                               10174\n",
       "Desarrollador Web                                 21420\n",
       "Ingeniero de Redes                                24154\n",
       "Programador                                       25826"
      ]
     },
     "execution_count": 8,
     "metadata": {},
     "output_type": "execute_result"
    }
   ],
   "source": [
    "## Codigo para agrupar datos\n",
    "Ocupacion = Trabajadores.groupby('Ocupación').size()\n",
    "\n",
    "Tabla_Ocupacion = pd.DataFrame({\n",
    "    'Frecuencia absoluta (f)': Ocupacion\n",
    "})\n",
    "Tabla_Ocupacion"
   ]
  },
  {
   "cell_type": "code",
   "execution_count": 11,
   "metadata": {},
   "outputs": [
    {
     "data": {
      "image/png": "[encoded data removed]",
      "text/plain": [
       "<Figure size 600x400 with 1 Axes>"
      ]
     },
     "metadata": {},
     "output_type": "display_data"
    }
   ],
   "source": [
    "# Importar bibliotecas o librerías\n",
    "import matplotlib.pyplot as plt\n",
    "import numpy as np\n",
    "\n",
    "#Gráfico circular\n",
    "\n",
    "#Considerar que \"tabla\" es el nombre de la tabla de frecuencias construida\n",
    "categorias = Tabla_Ocupacion.index  #Indices de la tabla\n",
    "h = Tabla_Ocupacion['Frecuencia absoluta (f)']   #Considerar que \"Frecuencia\" es el tipo de frecuencia a graficar\n",
    "\n",
    "#Gráfico\n",
    "fig,ax = plt.subplots(figsize = (6,4)) #Tamaño de la figura\n",
    "circular = ax.pie(h, labels = categorias, autopct= '%.1f%%')\n",
    "\n",
    "#Personalización\n",
    "ax.set_title('Distribución de la ocupación de los trabajadores')\n",
    "\n",
    "plt.show()"
   ]
  },
  {
   "cell_type": "markdown",
   "metadata": {
    "id": "-x0Nn526y6Q5"
   },
   "source": [
    "5. ¿Cuál es la ocupación más común en esta base de datos? ¿A qué piensas que se debe?"
   ]
  },
  {
   "cell_type": "markdown",
   "metadata": {},
   "source": [
    "La ocupación más comun en la Base de Datoses la de Programador"
   ]
  },
  {
   "cell_type": "markdown",
   "metadata": {
    "id": "oNCkYK_Q0gbn"
   },
   "source": [
    "6. En el rol de analista de datos, ¿qué decisiones podrías tomar basándote en los resultados obtenidos?"
   ]
  },
  {
   "cell_type": "markdown",
   "metadata": {
    "id": "lbQZoGg6Ec0w"
   },
   "source": [
    "### Actividad 2"
   ]
  },
  {
   "cell_type": "markdown",
   "metadata": {
    "id": "ULCfoxbEEk24"
   },
   "source": [
    "Para responder esta actividad considera la base de datos entregada en la celda **Contexto actividades 1, 2 y 3**."
   ]
  },
  {
   "cell_type": "markdown",
   "metadata": {
    "id": "hMrZshj8E_bb"
   },
   "source": [
    "1. ¿Cuál es la clasificación de la variable *Lenguaje de programación*? *Puedes volver a consultar la base de datos con funciones como head() o tail()*"
   ]
  },
  {
   "cell_type": "markdown",
   "metadata": {},
   "source": [
    "Lenguaje de Programación: Cualitativa Nominal"
   ]
  },
  {
   "cell_type": "markdown",
   "metadata": {
    "id": "QPDotOQoFU22"
   },
   "source": [
    "2. Crea una tabla que muestre las frecuencias absolutas y relativas de esta variable. Luego, visualiza apropiadamente la distribución de trabajadores según el lenguaje de programación más utilizado en su trabajo e interpreta lo observado."
   ]
  },
  {
   "cell_type": "code",
   "execution_count": 4,
   "metadata": {},
   "outputs": [
    {
     "data": {
      "text/html": [
       "<div>\n",
       "<style scoped>\n",
       "    .dataframe tbody tr th:only-of-type {\n",
       "        vertical-align: middle;\n",
       "    }\n",
       "\n",
       "    .dataframe tbody tr th {\n",
       "        vertical-align: top;\n",
       "    }\n",
       "\n",
       "    .dataframe thead th {\n",
       "        text-align: right;\n",
       "    }\n",
       "</style>\n",
       "<table border=\"1\" class=\"dataframe\">\n",
       "  <thead>\n",
       "    <tr style=\"text-align: right;\">\n",
       "      <th></th>\n",
       "      <th>Frecuencia absoluta (f)</th>\n",
       "      <th>Frecuencia relativa (%) (h)</th>\n",
       "    </tr>\n",
       "    <tr>\n",
       "      <th>Lenguaje de programación</th>\n",
       "      <th></th>\n",
       "      <th></th>\n",
       "    </tr>\n",
       "  </thead>\n",
       "  <tbody>\n",
       "    <tr>\n",
       "      <th>Python</th>\n",
       "      <td>35294</td>\n",
       "      <td>35.3</td>\n",
       "    </tr>\n",
       "    <tr>\n",
       "      <th>JavaScript</th>\n",
       "      <td>24980</td>\n",
       "      <td>25.0</td>\n",
       "    </tr>\n",
       "    <tr>\n",
       "      <th>Java</th>\n",
       "      <td>14952</td>\n",
       "      <td>15.0</td>\n",
       "    </tr>\n",
       "    <tr>\n",
       "      <th>C++</th>\n",
       "      <td>9940</td>\n",
       "      <td>9.9</td>\n",
       "    </tr>\n",
       "    <tr>\n",
       "      <th>C#</th>\n",
       "      <td>6851</td>\n",
       "      <td>6.9</td>\n",
       "    </tr>\n",
       "    <tr>\n",
       "      <th>Swift</th>\n",
       "      <td>1652</td>\n",
       "      <td>1.7</td>\n",
       "    </tr>\n",
       "    <tr>\n",
       "      <th>PHP</th>\n",
       "      <td>1636</td>\n",
       "      <td>1.6</td>\n",
       "    </tr>\n",
       "    <tr>\n",
       "      <th>Go</th>\n",
       "      <td>1626</td>\n",
       "      <td>1.6</td>\n",
       "    </tr>\n",
       "    <tr>\n",
       "      <th>Rust</th>\n",
       "      <td>1550</td>\n",
       "      <td>1.6</td>\n",
       "    </tr>\n",
       "    <tr>\n",
       "      <th>Ruby</th>\n",
       "      <td>1519</td>\n",
       "      <td>1.5</td>\n",
       "    </tr>\n",
       "  </tbody>\n",
       "</table>\n",
       "</div>"
      ],
      "text/plain": [
       "                          Frecuencia absoluta (f)  Frecuencia relativa (%) (h)\n",
       "Lenguaje de programación                                                      \n",
       "Python                                      35294                         35.3\n",
       "JavaScript                                  24980                         25.0\n",
       "Java                                        14952                         15.0\n",
       "C++                                          9940                          9.9\n",
       "C#                                           6851                          6.9\n",
       "Swift                                        1652                          1.7\n",
       "PHP                                          1636                          1.6\n",
       "Go                                           1626                          1.6\n",
       "Rust                                         1550                          1.6\n",
       "Ruby                                         1519                          1.5"
      ]
     },
     "execution_count": 4,
     "metadata": {},
     "output_type": "execute_result"
    }
   ],
   "source": [
    "## Codigo para agrupar datos\n",
    "Lenguajes = Trabajadores.groupby('Lenguaje de programación').size()\n",
    "\n",
    "Tabla_Lenguajes = pd.DataFrame({\n",
    "    'Frecuencia absoluta (f)': Lenguajes,\n",
    "    'Frecuencia relativa (%) (h)': round((Lenguajes / 100000) * 100, 1)\n",
    "})\n",
    "Tabla_Lenguajes\n",
    "\n",
    "Tabla_Lenguajes_order = Tabla_Lenguajes.sort_values('Frecuencia absoluta (f)', ascending=False) #ordena la tabla de mayor a menor cantidad\n",
    "Tabla_Lenguajes_order"
   ]
  },
  {
   "cell_type": "code",
   "execution_count": 5,
   "metadata": {},
   "outputs": [
    {
     "data": {
      "image/png": "[encoded data removed]",
      "text/plain": [
       "<Figure size 600x600 with 1 Axes>"
      ]
     },
     "metadata": {},
     "output_type": "display_data"
    }
   ],
   "source": [
    "#Gráfico de barras (Columnas)\n",
    "\n",
    "#Considerar que \"tabla\" es el nombre de la tabla de frecuencias construida\n",
    "\n",
    "# Importar bibliotecas o librerías\n",
    "import matplotlib.pyplot as plt\n",
    "import numpy as np\n",
    "\n",
    "#Variables\n",
    "Categorias = Tabla_Lenguajes_order.index\n",
    "f = Tabla_Lenguajes_order['Frecuencia absoluta (f)']   #Considerar que \"Frecuencia\" es el tipo de frecuencia a graficar\n",
    "\n",
    "#Gráfico\n",
    "fig, ax = plt.subplots(figsize = (6,6))\n",
    "barras = ax.bar(Categorias, f, color = 'b', edgecolor ='black') #Los colores son de libre elección\n",
    "\n",
    "#Personalización\n",
    "ax.set_title('Distribución de trabajadores según el lenguaje de programación más utilizado')\n",
    "ax.set_xlabel('Lenguaje de Programación')\n",
    "ax.set_ylabel('Cantifad de trabajadores')\n",
    "ax.bar_label(barras)\n",
    "plt.xticks(rotation=45) #Rota en 45° las categorías para evitar la superposición\n",
    "plt.show()\n"
   ]
  },
  {
   "cell_type": "markdown",
   "metadata": {
    "id": "LFpgTXndPUC9"
   },
   "source": [
    "3. ¿Qué conclusiones podrías sacar si este gráfico reflejara resultados de una encuesta nacional?"
   ]
  },
  {
   "cell_type": "markdown",
   "metadata": {
    "id": "oZ50yLv7R3NB"
   },
   "source": [
    "### Actividad 3"
   ]
  },
  {
   "cell_type": "markdown",
   "metadata": {
    "id": "52Wy8nuxTplL"
   },
   "source": [
    "Para responder esta actividad considera la base de datos entregada en la celda **Contexto actividades 1, 2 y 3**."
   ]
  },
  {
   "cell_type": "markdown",
   "metadata": {
    "id": "PAjRseaTSbXr"
   },
   "source": [
    "1. ¿Cuál es la clasificación de la variable *Edad* ? Justifica tu respuesta."
   ]
  },
  {
   "cell_type": "markdown",
   "metadata": {
    "id": "eMQhnIZkTlFR"
   },
   "source": [
    "2. Construye una tabla de frecuencias absolutas y relativas (puntuales y acumuladas) para la variable *Edad*, considera 10 intervalos."
   ]
  },
  {
   "cell_type": "code",
   "execution_count": 7,
   "metadata": {},
   "outputs": [
    {
     "data": {
      "text/html": [
       "<div>\n",
       "<style scoped>\n",
       "    .dataframe tbody tr th:only-of-type {\n",
       "        vertical-align: middle;\n",
       "    }\n",
       "\n",
       "    .dataframe tbody tr th {\n",
       "        vertical-align: top;\n",
       "    }\n",
       "\n",
       "    .dataframe thead th {\n",
       "        text-align: right;\n",
       "    }\n",
       "</style>\n",
       "<table border=\"1\" class=\"dataframe\">\n",
       "  <thead>\n",
       "    <tr style=\"text-align: right;\">\n",
       "      <th></th>\n",
       "      <th>Frecuencia absoluta (f)</th>\n",
       "      <th>Frecuencia absoluta acumulada(F)</th>\n",
       "      <th>Frecuencia relativa (%) (h)</th>\n",
       "      <th>Frecuencia relativa acumulada (%) (H)</th>\n",
       "    </tr>\n",
       "    <tr>\n",
       "      <th>Intervalos</th>\n",
       "      <th></th>\n",
       "      <th></th>\n",
       "      <th></th>\n",
       "      <th></th>\n",
       "    </tr>\n",
       "  </thead>\n",
       "  <tbody>\n",
       "    <tr>\n",
       "      <th>(19.0, 24.0]</th>\n",
       "      <td>13057</td>\n",
       "      <td>13057</td>\n",
       "      <td>1.3057</td>\n",
       "      <td>13.057</td>\n",
       "    </tr>\n",
       "    <tr>\n",
       "      <th>(24.0, 28.0]</th>\n",
       "      <td>13516</td>\n",
       "      <td>26573</td>\n",
       "      <td>1.3516</td>\n",
       "      <td>26.573</td>\n",
       "    </tr>\n",
       "    <tr>\n",
       "      <th>(28.0, 32.0]</th>\n",
       "      <td>18417</td>\n",
       "      <td>44990</td>\n",
       "      <td>1.8417</td>\n",
       "      <td>44.990</td>\n",
       "    </tr>\n",
       "    <tr>\n",
       "      <th>(32.0, 36.0]</th>\n",
       "      <td>19582</td>\n",
       "      <td>64572</td>\n",
       "      <td>1.9582</td>\n",
       "      <td>64.572</td>\n",
       "    </tr>\n",
       "    <tr>\n",
       "      <th>(36.0, 40.0]</th>\n",
       "      <td>16215</td>\n",
       "      <td>80787</td>\n",
       "      <td>1.6215</td>\n",
       "      <td>80.787</td>\n",
       "    </tr>\n",
       "    <tr>\n",
       "      <th>(40.0, 44.0]</th>\n",
       "      <td>10722</td>\n",
       "      <td>91509</td>\n",
       "      <td>1.0722</td>\n",
       "      <td>91.509</td>\n",
       "    </tr>\n",
       "    <tr>\n",
       "      <th>(44.0, 48.0]</th>\n",
       "      <td>5436</td>\n",
       "      <td>96945</td>\n",
       "      <td>0.5436</td>\n",
       "      <td>96.945</td>\n",
       "    </tr>\n",
       "    <tr>\n",
       "      <th>(48.0, 52.0]</th>\n",
       "      <td>2176</td>\n",
       "      <td>99121</td>\n",
       "      <td>0.2176</td>\n",
       "      <td>99.121</td>\n",
       "    </tr>\n",
       "    <tr>\n",
       "      <th>(52.0, 56.0]</th>\n",
       "      <td>680</td>\n",
       "      <td>99801</td>\n",
       "      <td>0.0680</td>\n",
       "      <td>99.801</td>\n",
       "    </tr>\n",
       "    <tr>\n",
       "      <th>(56.0, 60.0]</th>\n",
       "      <td>199</td>\n",
       "      <td>100000</td>\n",
       "      <td>0.0199</td>\n",
       "      <td>100.000</td>\n",
       "    </tr>\n",
       "  </tbody>\n",
       "</table>\n",
       "</div>"
      ],
      "text/plain": [
       "              Frecuencia absoluta (f)  Frecuencia absoluta acumulada(F)  \\\n",
       "Intervalos                                                                \n",
       "(19.0, 24.0]                    13057                             13057   \n",
       "(24.0, 28.0]                    13516                             26573   \n",
       "(28.0, 32.0]                    18417                             44990   \n",
       "(32.0, 36.0]                    19582                             64572   \n",
       "(36.0, 40.0]                    16215                             80787   \n",
       "(40.0, 44.0]                    10722                             91509   \n",
       "(44.0, 48.0]                     5436                             96945   \n",
       "(48.0, 52.0]                     2176                             99121   \n",
       "(52.0, 56.0]                      680                             99801   \n",
       "(56.0, 60.0]                      199                            100000   \n",
       "\n",
       "              Frecuencia relativa (%) (h)  \\\n",
       "Intervalos                                  \n",
       "(19.0, 24.0]                       1.3057   \n",
       "(24.0, 28.0]                       1.3516   \n",
       "(28.0, 32.0]                       1.8417   \n",
       "(32.0, 36.0]                       1.9582   \n",
       "(36.0, 40.0]                       1.6215   \n",
       "(40.0, 44.0]                       1.0722   \n",
       "(44.0, 48.0]                       0.5436   \n",
       "(48.0, 52.0]                       0.2176   \n",
       "(52.0, 56.0]                       0.0680   \n",
       "(56.0, 60.0]                       0.0199   \n",
       "\n",
       "              Frecuencia relativa acumulada (%) (H)   \n",
       "Intervalos                                            \n",
       "(19.0, 24.0]                                  13.057  \n",
       "(24.0, 28.0]                                  26.573  \n",
       "(28.0, 32.0]                                  44.990  \n",
       "(32.0, 36.0]                                  64.572  \n",
       "(36.0, 40.0]                                  80.787  \n",
       "(40.0, 44.0]                                  91.509  \n",
       "(44.0, 48.0]                                  96.945  \n",
       "(48.0, 52.0]                                  99.121  \n",
       "(52.0, 56.0]                                  99.801  \n",
       "(56.0, 60.0]                                 100.000  "
      ]
     },
     "execution_count": 7,
     "metadata": {},
     "output_type": "execute_result"
    }
   ],
   "source": [
    "import pandas as pd\n",
    "\n",
    "Trabajadores['Intervalos'] = pd.cut(Trabajadores['Edad'], bins=10, include_lowest= True, precision = 0)\n",
    "Cuenta_intervalos = Trabajadores.groupby('Intervalos', observed=True).size()\n",
    "\n",
    "Tabla_Edad = pd.DataFrame({\n",
    "    'Frecuencia absoluta (f)': Cuenta_intervalos,\n",
    "    'Frecuencia absoluta acumulada(F)':Cuenta_intervalos.cumsum(),\n",
    "    'Frecuencia relativa (%) (h)': Cuenta_intervalos/1000000 * 100,\n",
    "    'Frecuencia relativa acumulada (%) (H) ':(Cuenta_intervalos/100000*100).cumsum()\n",
    "})\n",
    "\n",
    "Tabla_Edad"
   ]
  },
  {
   "cell_type": "markdown",
   "metadata": {
    "id": "CgejGTobZ-h5"
   },
   "source": [
    "3. Interpreta las siguientes frecuencias:\n",
    "\n",
    "$\\hspace{1cm} f_{4}$:\n",
    "\n",
    "$\\hspace{1cm} F_{4}$:\n",
    "\n",
    "$\\hspace{1cm} h_{6}$:\n",
    "\n",
    "$\\hspace{1cm} H_{6}$:"
   ]
  },
  {
   "cell_type": "markdown",
   "metadata": {
    "id": "TavLdJyIbU06"
   },
   "source": [
    "4. Construye un gráfico apropiado para la variable *Edad* y justifica su elección. Luego, interpreta la mayor y menor frecuencia, y el rango del  histograma."
   ]
  },
  {
   "cell_type": "markdown",
   "metadata": {
    "id": "6II6PeYBkraJ"
   },
   "source": [
    "5. ¿Qué conclusiones puedes sacar del gráfico?"
   ]
  },
  {
   "cell_type": "markdown",
   "metadata": {
    "id": "vyBdoiiloEs_"
   },
   "source": [
    "6. ¿Qué decisiones podrías tomar si estuvieras reclutando talento para un proyecto de largo plazo?"
   ]
  },
  {
   "cell_type": "markdown",
   "metadata": {
    "id": "c4Br9Aygpjgn"
   },
   "source": [
    "## Actividad 4"
   ]
  },
  {
   "cell_type": "markdown",
   "metadata": {
    "id": "pdaWS5W_qv7z"
   },
   "source": [
    "La siguiente base de datos contiene información correspondiente al año 2017 para todos los países del mundo. Incluye el número de habitantes, la cantidad de usuarios de internet y el continente al que pertenece cada país.\n",
    "\n",
    "Para responder las siguientes preguntas, descarga la base de datos **<a href=\"https://drive.google.com/uc?export=download&id=1s5Cm1m6xnZhAEqLVuwRba-RrPPX4ueOW\n",
    "\">aquí</a>**."
   ]
  },
  {
   "cell_type": "markdown",
   "metadata": {
    "id": "AyKm1jlyvI9s"
   },
   "source": [
    "1. Identifique la población y la muestra en estudio."
   ]
  },
  {
   "cell_type": "markdown",
   "metadata": {
    "id": "upev5Yg_SErZ"
   },
   "source": [
    "2. Muestra las primeras 5 filas y las últimas 5 filas del DataFrame."
   ]
  },
  {
   "cell_type": "markdown",
   "metadata": {
    "id": "ZKkzUz5pvN-h"
   },
   "source": [
    "3. Identifica y clasifica las variables de la base de datos."
   ]
  },
  {
   "cell_type": "markdown",
   "metadata": {
    "id": "V9OzrwgivWxh"
   },
   "source": [
    "4. Crea una tabla de frecuencias absolutas y relativas que muestre la distribución de países por continente. Luego, construye un gráfico circular con las frecuencias relativas y uno de barras con las frecuencias absolutas de la tabla."
   ]
  },
  {
   "cell_type": "markdown",
   "metadata": {
    "id": "DQfWmgJVvehl"
   },
   "source": [
    "5. ¿Qué aspectos le llaman la atención en estos gráficos? Describe por lo menos 3 aspectos."
   ]
  },
  {
   "cell_type": "markdown",
   "metadata": {
    "id": "HgPiyIgWvjLO"
   },
   "source": [
    "6. ¿Cuáles son los 10 países con mayor población? Construye un gráfico de barras considerando estos países y su cantidad de habitantes en porcentaje del total de la población mundial. Comenta lo observado."
   ]
  },
  {
   "cell_type": "markdown",
   "metadata": {
    "id": "4j4diA8FvrpY"
   },
   "source": [
    "7. ¿En qué continente el porcentaje de personas que usa internet, respecto al total de su población, es el más alto? ¿Y en cuál es el más bajo? Conversa con tus compañeros, planifiquen una estrategia, y respondan las preguntas justificando su respuesta."
   ]
  },
  {
   "cell_type": "markdown",
   "metadata": {
    "id": "GbiPY0YMvyXD"
   },
   "source": [
    "8. Construye un gráfico apropiado para la tabla creada en el inciso anterior."
   ]
  },
  {
   "cell_type": "markdown",
   "metadata": {
    "id": "TDxNH66awB2u"
   },
   "source": [
    "9. Calcula el porcentaje de personas que usa internet en cada país y clasifícalos en 9 intervalos. Luego, construye un histograma que muestre la distribución de países según ese porcentaje. ¿Qué observas?"
   ]
  }
 ],
 "metadata": {
  "colab": {
   "authorship_tag": "ABX9TyMf87qDh7oelaqGutaMXgDD",
   "collapsed_sections": [
    "MOPpj52P1Jto",
    "lbQZoGg6Ec0w",
    "oZ50yLv7R3NB",
    "c4Br9Aygpjgn"
   ],
   "provenance": [
    {
     "file_id": "1dDw_PkE3tRtT42h5U5Jp9maX2NH3YMwN",
     "timestamp": 1748051670071
    }
   ],
   "toc_visible": true
  },
  "kernelspec": {
   "display_name": "Python 3",
   "name": "python3"
  },
  "language_info": {
   "codemirror_mode": {
    "name": "ipython",
    "version": 3
   },
   "file_extension": ".py",
   "mimetype": "text/x-python",
   "name": "python",
   "nbconvert_exporter": "python",
   "pygments_lexer": "ipython3",
   "version": "3.12.10"
  }
 },
 "nbformat": 4,
 "nbformat_minor": 0
}
